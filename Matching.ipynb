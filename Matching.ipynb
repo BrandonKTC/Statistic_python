{
  "nbformat": 4,
  "nbformat_minor": 0,
  "metadata": {
    "colab": {
      "name": "Matching.ipynb",
      "provenance": [],
      "mount_file_id": "10YQKI2gsIfmnHINB11XTuGzlq3ICo_8g",
      "authorship_tag": "ABX9TyMHagEPYePzCpezgijmBFYq",
      "include_colab_link": true
    },
    "kernelspec": {
      "name": "python3",
      "display_name": "Python 3"
    },
    "language_info": {
      "name": "python"
    }
  },
  "cells": [
    {
      "cell_type": "markdown",
      "metadata": {
        "id": "view-in-github",
        "colab_type": "text"
      },
      "source": [
        "<a href=\"https://colab.research.google.com/github/BrandonKTC/Statistic_python/blob/main/Matching.ipynb\" target=\"_parent\"><img src=\"https://colab.research.google.com/assets/colab-badge.svg\" alt=\"Open In Colab\"/></a>"
      ]
    },
    {
      "cell_type": "code",
      "execution_count": 84,
      "metadata": {
        "colab": {
          "base_uri": "https://localhost:8080/"
        },
        "id": "yYtsYgr-vvnP",
        "outputId": "b3591ef2-f306-4a3e-d282-f966623dabcb"
      },
      "outputs": [
        {
          "output_type": "stream",
          "name": "stdout",
          "text": [
            "Looking in indexes: https://pypi.org/simple, https://us-python.pkg.dev/colab-wheels/public/simple/\n",
            "Requirement already satisfied: CausalInference in /usr/local/lib/python3.7/dist-packages (0.1.3)\n"
          ]
        }
      ],
      "source": [
        "# install Librairies\n",
        "!pip install CausalInference"
      ]
    },
    {
      "cell_type": "code",
      "source": [
        "%cd /content/drive/MyDrive/Business Analyst course/Econometrics and Causal Inference/Matching"
      ],
      "metadata": {
        "colab": {
          "base_uri": "https://localhost:8080/"
        },
        "id": "PxIn_hnSv2K0",
        "outputId": "754976b9-a6e9-436b-f127-68468aa518f2"
      },
      "execution_count": 85,
      "outputs": [
        {
          "output_type": "stream",
          "name": "stdout",
          "text": [
            "/content/drive/MyDrive/Business Analyst course/Econometrics and Causal Inference/Matching\n"
          ]
        }
      ]
    },
    {
      "cell_type": "code",
      "source": [
        "# libraries\n",
        "import pandas as pd\n",
        "import numpy as np\n",
        "import seaborn as sns\n",
        "import scipy.stats as ss\n",
        "from causalinference import CausalModel"
      ],
      "metadata": {
        "id": "cY6O1xVjwFaO"
      },
      "execution_count": 86,
      "outputs": []
    },
    {
      "cell_type": "code",
      "source": [
        "# Data\n",
        "df = pd.read_csv('school.csv')\n",
        "df = df.iloc[:, 1:]\n",
        "df.head()"
      ],
      "metadata": {
        "colab": {
          "base_uri": "https://localhost:8080/",
          "height": 478
        },
        "id": "T2vhlJXlwVNS",
        "outputId": "7eb3d83d-0143-4930-bc27-a91838423d59"
      },
      "execution_count": 87,
      "outputs": [
        {
          "output_type": "execute_result",
          "data": {
            "text/plain": [
              "   catholic                 race  number_places_lived  mom_age  dad_age  \\\n",
              "0         0  WHITE, NON-HISPANIC                    1       47       45   \n",
              "1         0  WHITE, NON-HISPANIC                    1       41       48   \n",
              "2         0  WHITE, NON-HISPANIC                    1       43       55   \n",
              "3         1  WHITE, NON-HISPANIC                    1       38       39   \n",
              "4         0  WHITE, NON-HISPANIC                    1       47       57   \n",
              "\n",
              "                      dad_education                           mom_education  \\\n",
              "0  DOCTORATE OR PROFESSIONAL DEGREE                            SOME COLLEGE   \n",
              "1                 BACHELOR'S DEGREE  GRADUATE/PROFESSIONAL SCHOOL-NO DEGREE   \n",
              "2          MASTER'S DEGREE (MA, MS)  GRADUATE/PROFESSIONAL SCHOOL-NO DEGREE   \n",
              "3                 BACHELOR'S DEGREE  GRADUATE/PROFESSIONAL SCHOOL-NO DEGREE   \n",
              "4  DOCTORATE OR PROFESSIONAL DEGREE                MASTER'S DEGREE (MA, MS)   \n",
              "\n",
              "   mom_score  dad_score    income  poverty  food_stamps  score_standardized  \n",
              "0      53.50       77.5   62500.5        0            0            0.981753  \n",
              "1      34.95       53.5   45000.5        0            0            0.594378  \n",
              "2      63.43       53.5   62500.5        0            0            0.490611  \n",
              "3      53.50       53.5   87500.5        0            0            1.451278  \n",
              "4      61.56       77.5  150000.5        0            0            2.595699  "
            ],
            "text/html": [
              "\n",
              "  <div id=\"df-4a7ded0e-39f9-4ea2-b493-3ba060fb1e0a\">\n",
              "    <div class=\"colab-df-container\">\n",
              "      <div>\n",
              "<style scoped>\n",
              "    .dataframe tbody tr th:only-of-type {\n",
              "        vertical-align: middle;\n",
              "    }\n",
              "\n",
              "    .dataframe tbody tr th {\n",
              "        vertical-align: top;\n",
              "    }\n",
              "\n",
              "    .dataframe thead th {\n",
              "        text-align: right;\n",
              "    }\n",
              "</style>\n",
              "<table border=\"1\" class=\"dataframe\">\n",
              "  <thead>\n",
              "    <tr style=\"text-align: right;\">\n",
              "      <th></th>\n",
              "      <th>catholic</th>\n",
              "      <th>race</th>\n",
              "      <th>number_places_lived</th>\n",
              "      <th>mom_age</th>\n",
              "      <th>dad_age</th>\n",
              "      <th>dad_education</th>\n",
              "      <th>mom_education</th>\n",
              "      <th>mom_score</th>\n",
              "      <th>dad_score</th>\n",
              "      <th>income</th>\n",
              "      <th>poverty</th>\n",
              "      <th>food_stamps</th>\n",
              "      <th>score_standardized</th>\n",
              "    </tr>\n",
              "  </thead>\n",
              "  <tbody>\n",
              "    <tr>\n",
              "      <th>0</th>\n",
              "      <td>0</td>\n",
              "      <td>WHITE, NON-HISPANIC</td>\n",
              "      <td>1</td>\n",
              "      <td>47</td>\n",
              "      <td>45</td>\n",
              "      <td>DOCTORATE OR PROFESSIONAL DEGREE</td>\n",
              "      <td>SOME COLLEGE</td>\n",
              "      <td>53.50</td>\n",
              "      <td>77.5</td>\n",
              "      <td>62500.5</td>\n",
              "      <td>0</td>\n",
              "      <td>0</td>\n",
              "      <td>0.981753</td>\n",
              "    </tr>\n",
              "    <tr>\n",
              "      <th>1</th>\n",
              "      <td>0</td>\n",
              "      <td>WHITE, NON-HISPANIC</td>\n",
              "      <td>1</td>\n",
              "      <td>41</td>\n",
              "      <td>48</td>\n",
              "      <td>BACHELOR'S DEGREE</td>\n",
              "      <td>GRADUATE/PROFESSIONAL SCHOOL-NO DEGREE</td>\n",
              "      <td>34.95</td>\n",
              "      <td>53.5</td>\n",
              "      <td>45000.5</td>\n",
              "      <td>0</td>\n",
              "      <td>0</td>\n",
              "      <td>0.594378</td>\n",
              "    </tr>\n",
              "    <tr>\n",
              "      <th>2</th>\n",
              "      <td>0</td>\n",
              "      <td>WHITE, NON-HISPANIC</td>\n",
              "      <td>1</td>\n",
              "      <td>43</td>\n",
              "      <td>55</td>\n",
              "      <td>MASTER'S DEGREE (MA, MS)</td>\n",
              "      <td>GRADUATE/PROFESSIONAL SCHOOL-NO DEGREE</td>\n",
              "      <td>63.43</td>\n",
              "      <td>53.5</td>\n",
              "      <td>62500.5</td>\n",
              "      <td>0</td>\n",
              "      <td>0</td>\n",
              "      <td>0.490611</td>\n",
              "    </tr>\n",
              "    <tr>\n",
              "      <th>3</th>\n",
              "      <td>1</td>\n",
              "      <td>WHITE, NON-HISPANIC</td>\n",
              "      <td>1</td>\n",
              "      <td>38</td>\n",
              "      <td>39</td>\n",
              "      <td>BACHELOR'S DEGREE</td>\n",
              "      <td>GRADUATE/PROFESSIONAL SCHOOL-NO DEGREE</td>\n",
              "      <td>53.50</td>\n",
              "      <td>53.5</td>\n",
              "      <td>87500.5</td>\n",
              "      <td>0</td>\n",
              "      <td>0</td>\n",
              "      <td>1.451278</td>\n",
              "    </tr>\n",
              "    <tr>\n",
              "      <th>4</th>\n",
              "      <td>0</td>\n",
              "      <td>WHITE, NON-HISPANIC</td>\n",
              "      <td>1</td>\n",
              "      <td>47</td>\n",
              "      <td>57</td>\n",
              "      <td>DOCTORATE OR PROFESSIONAL DEGREE</td>\n",
              "      <td>MASTER'S DEGREE (MA, MS)</td>\n",
              "      <td>61.56</td>\n",
              "      <td>77.5</td>\n",
              "      <td>150000.5</td>\n",
              "      <td>0</td>\n",
              "      <td>0</td>\n",
              "      <td>2.595699</td>\n",
              "    </tr>\n",
              "  </tbody>\n",
              "</table>\n",
              "</div>\n",
              "      <button class=\"colab-df-convert\" onclick=\"convertToInteractive('df-4a7ded0e-39f9-4ea2-b493-3ba060fb1e0a')\"\n",
              "              title=\"Convert this dataframe to an interactive table.\"\n",
              "              style=\"display:none;\">\n",
              "        \n",
              "  <svg xmlns=\"http://www.w3.org/2000/svg\" height=\"24px\"viewBox=\"0 0 24 24\"\n",
              "       width=\"24px\">\n",
              "    <path d=\"M0 0h24v24H0V0z\" fill=\"none\"/>\n",
              "    <path d=\"M18.56 5.44l.94 2.06.94-2.06 2.06-.94-2.06-.94-.94-2.06-.94 2.06-2.06.94zm-11 1L8.5 8.5l.94-2.06 2.06-.94-2.06-.94L8.5 2.5l-.94 2.06-2.06.94zm10 10l.94 2.06.94-2.06 2.06-.94-2.06-.94-.94-2.06-.94 2.06-2.06.94z\"/><path d=\"M17.41 7.96l-1.37-1.37c-.4-.4-.92-.59-1.43-.59-.52 0-1.04.2-1.43.59L10.3 9.45l-7.72 7.72c-.78.78-.78 2.05 0 2.83L4 21.41c.39.39.9.59 1.41.59.51 0 1.02-.2 1.41-.59l7.78-7.78 2.81-2.81c.8-.78.8-2.07 0-2.86zM5.41 20L4 18.59l7.72-7.72 1.47 1.35L5.41 20z\"/>\n",
              "  </svg>\n",
              "      </button>\n",
              "      \n",
              "  <style>\n",
              "    .colab-df-container {\n",
              "      display:flex;\n",
              "      flex-wrap:wrap;\n",
              "      gap: 12px;\n",
              "    }\n",
              "\n",
              "    .colab-df-convert {\n",
              "      background-color: #E8F0FE;\n",
              "      border: none;\n",
              "      border-radius: 50%;\n",
              "      cursor: pointer;\n",
              "      display: none;\n",
              "      fill: #1967D2;\n",
              "      height: 32px;\n",
              "      padding: 0 0 0 0;\n",
              "      width: 32px;\n",
              "    }\n",
              "\n",
              "    .colab-df-convert:hover {\n",
              "      background-color: #E2EBFA;\n",
              "      box-shadow: 0px 1px 2px rgba(60, 64, 67, 0.3), 0px 1px 3px 1px rgba(60, 64, 67, 0.15);\n",
              "      fill: #174EA6;\n",
              "    }\n",
              "\n",
              "    [theme=dark] .colab-df-convert {\n",
              "      background-color: #3B4455;\n",
              "      fill: #D2E3FC;\n",
              "    }\n",
              "\n",
              "    [theme=dark] .colab-df-convert:hover {\n",
              "      background-color: #434B5C;\n",
              "      box-shadow: 0px 1px 3px 1px rgba(0, 0, 0, 0.15);\n",
              "      filter: drop-shadow(0px 1px 2px rgba(0, 0, 0, 0.3));\n",
              "      fill: #FFFFFF;\n",
              "    }\n",
              "  </style>\n",
              "\n",
              "      <script>\n",
              "        const buttonEl =\n",
              "          document.querySelector('#df-4a7ded0e-39f9-4ea2-b493-3ba060fb1e0a button.colab-df-convert');\n",
              "        buttonEl.style.display =\n",
              "          google.colab.kernel.accessAllowed ? 'block' : 'none';\n",
              "\n",
              "        async function convertToInteractive(key) {\n",
              "          const element = document.querySelector('#df-4a7ded0e-39f9-4ea2-b493-3ba060fb1e0a');\n",
              "          const dataTable =\n",
              "            await google.colab.kernel.invokeFunction('convertToInteractive',\n",
              "                                                     [key], {});\n",
              "          if (!dataTable) return;\n",
              "\n",
              "          const docLinkHtml = 'Like what you see? Visit the ' +\n",
              "            '<a target=\"_blank\" href=https://colab.research.google.com/notebooks/data_table.ipynb>data table notebook</a>'\n",
              "            + ' to learn more about interactive tables.';\n",
              "          element.innerHTML = '';\n",
              "          dataTable['output_type'] = 'display_data';\n",
              "          await google.colab.output.renderOutput(dataTable, element);\n",
              "          const docLink = document.createElement('div');\n",
              "          docLink.innerHTML = docLinkHtml;\n",
              "          element.appendChild(docLink);\n",
              "        }\n",
              "      </script>\n",
              "    </div>\n",
              "  </div>\n",
              "  "
            ]
          },
          "metadata": {},
          "execution_count": 87
        }
      ]
    },
    {
      "cell_type": "markdown",
      "source": [
        "# Data Analysis"
      ],
      "metadata": {
        "id": "3fV7_kCZyUDZ"
      }
    },
    {
      "cell_type": "code",
      "source": [
        "# comparing group's averages\n",
        "df.groupby(\"catholic\").mean()"
      ],
      "metadata": {
        "colab": {
          "base_uri": "https://localhost:8080/",
          "height": 207
        },
        "id": "aZ2EvMxJyWEe",
        "outputId": "b072bd03-3516-4540-9b84-b982eaf69719"
      },
      "execution_count": 88,
      "outputs": [
        {
          "output_type": "execute_result",
          "data": {
            "text/plain": [
              "          number_places_lived    mom_age    dad_age  mom_score  dad_score  \\\n",
              "catholic                                                                    \n",
              "0                    1.106246  37.794621  40.134919  43.909495  42.590520   \n",
              "1                    1.073118  39.775269  42.007527  47.620871  45.908269   \n",
              "\n",
              "                income   poverty  food_stamps  score_standardized  \n",
              "catholic                                                           \n",
              "0         65393.928540  0.101578     0.045566            0.163128  \n",
              "1         86180.625269  0.016129     0.006452            0.219685  "
            ],
            "text/html": [
              "\n",
              "  <div id=\"df-1258421f-1b47-4d2a-822d-e6dc528ac2a4\">\n",
              "    <div class=\"colab-df-container\">\n",
              "      <div>\n",
              "<style scoped>\n",
              "    .dataframe tbody tr th:only-of-type {\n",
              "        vertical-align: middle;\n",
              "    }\n",
              "\n",
              "    .dataframe tbody tr th {\n",
              "        vertical-align: top;\n",
              "    }\n",
              "\n",
              "    .dataframe thead th {\n",
              "        text-align: right;\n",
              "    }\n",
              "</style>\n",
              "<table border=\"1\" class=\"dataframe\">\n",
              "  <thead>\n",
              "    <tr style=\"text-align: right;\">\n",
              "      <th></th>\n",
              "      <th>number_places_lived</th>\n",
              "      <th>mom_age</th>\n",
              "      <th>dad_age</th>\n",
              "      <th>mom_score</th>\n",
              "      <th>dad_score</th>\n",
              "      <th>income</th>\n",
              "      <th>poverty</th>\n",
              "      <th>food_stamps</th>\n",
              "      <th>score_standardized</th>\n",
              "    </tr>\n",
              "    <tr>\n",
              "      <th>catholic</th>\n",
              "      <th></th>\n",
              "      <th></th>\n",
              "      <th></th>\n",
              "      <th></th>\n",
              "      <th></th>\n",
              "      <th></th>\n",
              "      <th></th>\n",
              "      <th></th>\n",
              "      <th></th>\n",
              "    </tr>\n",
              "  </thead>\n",
              "  <tbody>\n",
              "    <tr>\n",
              "      <th>0</th>\n",
              "      <td>1.106246</td>\n",
              "      <td>37.794621</td>\n",
              "      <td>40.134919</td>\n",
              "      <td>43.909495</td>\n",
              "      <td>42.590520</td>\n",
              "      <td>65393.928540</td>\n",
              "      <td>0.101578</td>\n",
              "      <td>0.045566</td>\n",
              "      <td>0.163128</td>\n",
              "    </tr>\n",
              "    <tr>\n",
              "      <th>1</th>\n",
              "      <td>1.073118</td>\n",
              "      <td>39.775269</td>\n",
              "      <td>42.007527</td>\n",
              "      <td>47.620871</td>\n",
              "      <td>45.908269</td>\n",
              "      <td>86180.625269</td>\n",
              "      <td>0.016129</td>\n",
              "      <td>0.006452</td>\n",
              "      <td>0.219685</td>\n",
              "    </tr>\n",
              "  </tbody>\n",
              "</table>\n",
              "</div>\n",
              "      <button class=\"colab-df-convert\" onclick=\"convertToInteractive('df-1258421f-1b47-4d2a-822d-e6dc528ac2a4')\"\n",
              "              title=\"Convert this dataframe to an interactive table.\"\n",
              "              style=\"display:none;\">\n",
              "        \n",
              "  <svg xmlns=\"http://www.w3.org/2000/svg\" height=\"24px\"viewBox=\"0 0 24 24\"\n",
              "       width=\"24px\">\n",
              "    <path d=\"M0 0h24v24H0V0z\" fill=\"none\"/>\n",
              "    <path d=\"M18.56 5.44l.94 2.06.94-2.06 2.06-.94-2.06-.94-.94-2.06-.94 2.06-2.06.94zm-11 1L8.5 8.5l.94-2.06 2.06-.94-2.06-.94L8.5 2.5l-.94 2.06-2.06.94zm10 10l.94 2.06.94-2.06 2.06-.94-2.06-.94-.94-2.06-.94 2.06-2.06.94z\"/><path d=\"M17.41 7.96l-1.37-1.37c-.4-.4-.92-.59-1.43-.59-.52 0-1.04.2-1.43.59L10.3 9.45l-7.72 7.72c-.78.78-.78 2.05 0 2.83L4 21.41c.39.39.9.59 1.41.59.51 0 1.02-.2 1.41-.59l7.78-7.78 2.81-2.81c.8-.78.8-2.07 0-2.86zM5.41 20L4 18.59l7.72-7.72 1.47 1.35L5.41 20z\"/>\n",
              "  </svg>\n",
              "      </button>\n",
              "      \n",
              "  <style>\n",
              "    .colab-df-container {\n",
              "      display:flex;\n",
              "      flex-wrap:wrap;\n",
              "      gap: 12px;\n",
              "    }\n",
              "\n",
              "    .colab-df-convert {\n",
              "      background-color: #E8F0FE;\n",
              "      border: none;\n",
              "      border-radius: 50%;\n",
              "      cursor: pointer;\n",
              "      display: none;\n",
              "      fill: #1967D2;\n",
              "      height: 32px;\n",
              "      padding: 0 0 0 0;\n",
              "      width: 32px;\n",
              "    }\n",
              "\n",
              "    .colab-df-convert:hover {\n",
              "      background-color: #E2EBFA;\n",
              "      box-shadow: 0px 1px 2px rgba(60, 64, 67, 0.3), 0px 1px 3px 1px rgba(60, 64, 67, 0.15);\n",
              "      fill: #174EA6;\n",
              "    }\n",
              "\n",
              "    [theme=dark] .colab-df-convert {\n",
              "      background-color: #3B4455;\n",
              "      fill: #D2E3FC;\n",
              "    }\n",
              "\n",
              "    [theme=dark] .colab-df-convert:hover {\n",
              "      background-color: #434B5C;\n",
              "      box-shadow: 0px 1px 3px 1px rgba(0, 0, 0, 0.15);\n",
              "      filter: drop-shadow(0px 1px 2px rgba(0, 0, 0, 0.3));\n",
              "      fill: #FFFFFF;\n",
              "    }\n",
              "  </style>\n",
              "\n",
              "      <script>\n",
              "        const buttonEl =\n",
              "          document.querySelector('#df-1258421f-1b47-4d2a-822d-e6dc528ac2a4 button.colab-df-convert');\n",
              "        buttonEl.style.display =\n",
              "          google.colab.kernel.accessAllowed ? 'block' : 'none';\n",
              "\n",
              "        async function convertToInteractive(key) {\n",
              "          const element = document.querySelector('#df-1258421f-1b47-4d2a-822d-e6dc528ac2a4');\n",
              "          const dataTable =\n",
              "            await google.colab.kernel.invokeFunction('convertToInteractive',\n",
              "                                                     [key], {});\n",
              "          if (!dataTable) return;\n",
              "\n",
              "          const docLinkHtml = 'Like what you see? Visit the ' +\n",
              "            '<a target=\"_blank\" href=https://colab.research.google.com/notebooks/data_table.ipynb>data table notebook</a>'\n",
              "            + ' to learn more about interactive tables.';\n",
              "          element.innerHTML = '';\n",
              "          dataTable['output_type'] = 'display_data';\n",
              "          await google.colab.output.renderOutput(dataTable, element);\n",
              "          const docLink = document.createElement('div');\n",
              "          docLink.innerHTML = docLinkHtml;\n",
              "          element.appendChild(docLink);\n",
              "        }\n",
              "      </script>\n",
              "    </div>\n",
              "  </div>\n",
              "  "
            ]
          },
          "metadata": {},
          "execution_count": 88
        }
      ]
    },
    {
      "cell_type": "code",
      "source": [
        "# T-test\n",
        "group1 = df.where(df.catholic == 0).dropna()[\"income\"]\n",
        "group2 = df.where(df.catholic == 1).dropna()[\"income\"]\n",
        "\n",
        "stat, p = ss.ttest_ind(group1, group2)"
      ],
      "metadata": {
        "id": "zskgEM1iygFO"
      },
      "execution_count": 89,
      "outputs": []
    },
    {
      "cell_type": "code",
      "source": [
        "# what to loop\n",
        "continuous = [\"number_places_lived\", \"mom_age\", \"dad_age\", \"mom_score\", \"dad_score\", \"income\"]\n",
        "\n",
        "# where to store the results\n",
        "stat = {}\n",
        "p = {}\n",
        "\n",
        "# loop\n",
        "for x in continuous:\n",
        "  group1 = df.where(df.catholic == 0).dropna()[x]\n",
        "  group2 = df.where(df.catholic == 1).dropna()[x]\n",
        "\n",
        "  stat[x], p[x] = ss.ttest_ind(group1, group2)\n",
        "ttests = pd.DataFrame.from_dict(p, orient = \"Index\")\n",
        "ttests.columns = [\"pvalue\"]\n",
        "print(ttests)"
      ],
      "metadata": {
        "colab": {
          "base_uri": "https://localhost:8080/"
        },
        "id": "YMxAofWJzoQW",
        "outputId": "90a5699d-d749-46a3-dbd0-b816b207ccb9"
      },
      "execution_count": 90,
      "outputs": [
        {
          "output_type": "stream",
          "name": "stdout",
          "text": [
            "                           pvalue\n",
            "number_places_lived  7.072609e-03\n",
            "mom_age              1.359492e-22\n",
            "dad_age              3.344265e-16\n",
            "mom_score            2.280116e-19\n",
            "dad_score            5.489722e-18\n",
            "income               5.943636e-41\n"
          ]
        }
      ]
    },
    {
      "cell_type": "code",
      "source": [
        "# chi-square test\n",
        "tab = pd.crosstab(df.poverty,\n",
        "                  df.catholic)\n",
        "stat, p, dof, exp = ss.chi2_contingency(tab)\n",
        "print(p)"
      ],
      "metadata": {
        "colab": {
          "base_uri": "https://localhost:8080/"
        },
        "id": "oxaw2hQm01OT",
        "outputId": "d70d3008-9cc9-49e3-d6b9-9a0bb052bcb3"
      },
      "execution_count": 91,
      "outputs": [
        {
          "output_type": "stream",
          "name": "stdout",
          "text": [
            "6.511354893726035e-17\n"
          ]
        }
      ]
    },
    {
      "cell_type": "code",
      "source": [
        "# What to loop\n",
        "categorical = [\"poverty\", \"food_stamps\"]\n",
        "\n",
        "# where to store\n",
        "stat = {}\n",
        "p = {}\n",
        "dof = {}\n",
        "exp = {}\n",
        "\n",
        "# loop\n",
        "for x in categorical:\n",
        "  tab = pd.crosstab(df[x],\n",
        "                    df.catholic)\n",
        "  stat[x], p[x], dof[x], exp[x] = ss.chi2_contingency(tab)\n",
        "\n",
        "chisquare = pd.DataFrame.from_dict(p, orient=\"Index\")\n",
        "chisquare.columns = [\"pvalue\"]\n",
        "print(chisquare)"
      ],
      "metadata": {
        "colab": {
          "base_uri": "https://localhost:8080/"
        },
        "id": "wfAiVs192N4H",
        "outputId": "2023ca31-8913-4e1d-dbb4-80bb763f2510"
      },
      "execution_count": 92,
      "outputs": [
        {
          "output_type": "stream",
          "name": "stdout",
          "text": [
            "                   pvalue\n",
            "poverty      6.511355e-17\n",
            "food_stamps  3.294153e-08\n"
          ]
        }
      ]
    },
    {
      "cell_type": "markdown",
      "source": [
        "# Prepare Matching"
      ],
      "metadata": {
        "id": "7XwzKGlx3UJW"
      }
    },
    {
      "cell_type": "code",
      "source": [
        "#Temporary dataframe\n",
        "temp = pd.get_dummies(df)\n",
        "# check how many per race\n",
        "df.race.value_counts()"
      ],
      "metadata": {
        "colab": {
          "base_uri": "https://localhost:8080/"
        },
        "id": "q44wsdQK3XKZ",
        "outputId": "5136a003-e62d-4dc0-a39f-c8b46e5c775b"
      },
      "execution_count": 93,
      "outputs": [
        {
          "output_type": "execute_result",
          "data": {
            "text/plain": [
              "WHITE, NON-HISPANIC                        3654\n",
              "HISPANIC, RACE NOT SPECIFIED                408\n",
              "HISPANIC, RACE SPECIFIED                    387\n",
              "BLACK OR AFRICAN AMERICAN, NON-HISPANIC     357\n",
              "ASIAN                                       342\n",
              "MORE THAN ONE RACE, NON HISPANIC            123\n",
              "NATIVE HAWAIIAN, OTHER PACIFIC ISLANDER      93\n",
              "AMERICAN INDIAN OR ALASKA NATIVE             62\n",
              "NOT ASCERTAINED                               3\n",
              "Name: race, dtype: int64"
            ]
          },
          "metadata": {},
          "execution_count": 93
        }
      ]
    },
    {
      "cell_type": "code",
      "source": [
        "# preparing race variable\n",
        "df[\"race_asian\"] = np.where(df.race == 'ASIAN', 1, 0)\n",
        "df[\"race_white\"] = np.where(df.race == 'WHITE, NON-HISPANIC', 1, 0)\n",
        "df[\"race_black\"] = np.where(df.race == 'BLACK OR AFRICAN AMERICAN, NON-HISPANIC', 1, 0)\n",
        "df[\"race_hispanic\"] = np.where((df.race == 'HISPANIC, RACE NOT SPECIFIED') | (df.race == 'ISPANIC, RACE SPECIFIED'), 1, 0)\n",
        "df.head()"
      ],
      "metadata": {
        "colab": {
          "base_uri": "https://localhost:8080/",
          "height": 478
        },
        "id": "4pDbnH8_7a4U",
        "outputId": "fee8c06a-7165-4fe3-95f4-4f2ed991e321"
      },
      "execution_count": 94,
      "outputs": [
        {
          "output_type": "execute_result",
          "data": {
            "text/plain": [
              "   catholic                 race  number_places_lived  mom_age  dad_age  \\\n",
              "0         0  WHITE, NON-HISPANIC                    1       47       45   \n",
              "1         0  WHITE, NON-HISPANIC                    1       41       48   \n",
              "2         0  WHITE, NON-HISPANIC                    1       43       55   \n",
              "3         1  WHITE, NON-HISPANIC                    1       38       39   \n",
              "4         0  WHITE, NON-HISPANIC                    1       47       57   \n",
              "\n",
              "                      dad_education                           mom_education  \\\n",
              "0  DOCTORATE OR PROFESSIONAL DEGREE                            SOME COLLEGE   \n",
              "1                 BACHELOR'S DEGREE  GRADUATE/PROFESSIONAL SCHOOL-NO DEGREE   \n",
              "2          MASTER'S DEGREE (MA, MS)  GRADUATE/PROFESSIONAL SCHOOL-NO DEGREE   \n",
              "3                 BACHELOR'S DEGREE  GRADUATE/PROFESSIONAL SCHOOL-NO DEGREE   \n",
              "4  DOCTORATE OR PROFESSIONAL DEGREE                MASTER'S DEGREE (MA, MS)   \n",
              "\n",
              "   mom_score  dad_score    income  poverty  food_stamps  score_standardized  \\\n",
              "0      53.50       77.5   62500.5        0            0            0.981753   \n",
              "1      34.95       53.5   45000.5        0            0            0.594378   \n",
              "2      63.43       53.5   62500.5        0            0            0.490611   \n",
              "3      53.50       53.5   87500.5        0            0            1.451278   \n",
              "4      61.56       77.5  150000.5        0            0            2.595699   \n",
              "\n",
              "   race_asian  race_white  race_black  race_hispanic  \n",
              "0           0           1           0              0  \n",
              "1           0           1           0              0  \n",
              "2           0           1           0              0  \n",
              "3           0           1           0              0  \n",
              "4           0           1           0              0  "
            ],
            "text/html": [
              "\n",
              "  <div id=\"df-6a5eb6d9-dff0-4d08-b16d-a45eff2be7cd\">\n",
              "    <div class=\"colab-df-container\">\n",
              "      <div>\n",
              "<style scoped>\n",
              "    .dataframe tbody tr th:only-of-type {\n",
              "        vertical-align: middle;\n",
              "    }\n",
              "\n",
              "    .dataframe tbody tr th {\n",
              "        vertical-align: top;\n",
              "    }\n",
              "\n",
              "    .dataframe thead th {\n",
              "        text-align: right;\n",
              "    }\n",
              "</style>\n",
              "<table border=\"1\" class=\"dataframe\">\n",
              "  <thead>\n",
              "    <tr style=\"text-align: right;\">\n",
              "      <th></th>\n",
              "      <th>catholic</th>\n",
              "      <th>race</th>\n",
              "      <th>number_places_lived</th>\n",
              "      <th>mom_age</th>\n",
              "      <th>dad_age</th>\n",
              "      <th>dad_education</th>\n",
              "      <th>mom_education</th>\n",
              "      <th>mom_score</th>\n",
              "      <th>dad_score</th>\n",
              "      <th>income</th>\n",
              "      <th>poverty</th>\n",
              "      <th>food_stamps</th>\n",
              "      <th>score_standardized</th>\n",
              "      <th>race_asian</th>\n",
              "      <th>race_white</th>\n",
              "      <th>race_black</th>\n",
              "      <th>race_hispanic</th>\n",
              "    </tr>\n",
              "  </thead>\n",
              "  <tbody>\n",
              "    <tr>\n",
              "      <th>0</th>\n",
              "      <td>0</td>\n",
              "      <td>WHITE, NON-HISPANIC</td>\n",
              "      <td>1</td>\n",
              "      <td>47</td>\n",
              "      <td>45</td>\n",
              "      <td>DOCTORATE OR PROFESSIONAL DEGREE</td>\n",
              "      <td>SOME COLLEGE</td>\n",
              "      <td>53.50</td>\n",
              "      <td>77.5</td>\n",
              "      <td>62500.5</td>\n",
              "      <td>0</td>\n",
              "      <td>0</td>\n",
              "      <td>0.981753</td>\n",
              "      <td>0</td>\n",
              "      <td>1</td>\n",
              "      <td>0</td>\n",
              "      <td>0</td>\n",
              "    </tr>\n",
              "    <tr>\n",
              "      <th>1</th>\n",
              "      <td>0</td>\n",
              "      <td>WHITE, NON-HISPANIC</td>\n",
              "      <td>1</td>\n",
              "      <td>41</td>\n",
              "      <td>48</td>\n",
              "      <td>BACHELOR'S DEGREE</td>\n",
              "      <td>GRADUATE/PROFESSIONAL SCHOOL-NO DEGREE</td>\n",
              "      <td>34.95</td>\n",
              "      <td>53.5</td>\n",
              "      <td>45000.5</td>\n",
              "      <td>0</td>\n",
              "      <td>0</td>\n",
              "      <td>0.594378</td>\n",
              "      <td>0</td>\n",
              "      <td>1</td>\n",
              "      <td>0</td>\n",
              "      <td>0</td>\n",
              "    </tr>\n",
              "    <tr>\n",
              "      <th>2</th>\n",
              "      <td>0</td>\n",
              "      <td>WHITE, NON-HISPANIC</td>\n",
              "      <td>1</td>\n",
              "      <td>43</td>\n",
              "      <td>55</td>\n",
              "      <td>MASTER'S DEGREE (MA, MS)</td>\n",
              "      <td>GRADUATE/PROFESSIONAL SCHOOL-NO DEGREE</td>\n",
              "      <td>63.43</td>\n",
              "      <td>53.5</td>\n",
              "      <td>62500.5</td>\n",
              "      <td>0</td>\n",
              "      <td>0</td>\n",
              "      <td>0.490611</td>\n",
              "      <td>0</td>\n",
              "      <td>1</td>\n",
              "      <td>0</td>\n",
              "      <td>0</td>\n",
              "    </tr>\n",
              "    <tr>\n",
              "      <th>3</th>\n",
              "      <td>1</td>\n",
              "      <td>WHITE, NON-HISPANIC</td>\n",
              "      <td>1</td>\n",
              "      <td>38</td>\n",
              "      <td>39</td>\n",
              "      <td>BACHELOR'S DEGREE</td>\n",
              "      <td>GRADUATE/PROFESSIONAL SCHOOL-NO DEGREE</td>\n",
              "      <td>53.50</td>\n",
              "      <td>53.5</td>\n",
              "      <td>87500.5</td>\n",
              "      <td>0</td>\n",
              "      <td>0</td>\n",
              "      <td>1.451278</td>\n",
              "      <td>0</td>\n",
              "      <td>1</td>\n",
              "      <td>0</td>\n",
              "      <td>0</td>\n",
              "    </tr>\n",
              "    <tr>\n",
              "      <th>4</th>\n",
              "      <td>0</td>\n",
              "      <td>WHITE, NON-HISPANIC</td>\n",
              "      <td>1</td>\n",
              "      <td>47</td>\n",
              "      <td>57</td>\n",
              "      <td>DOCTORATE OR PROFESSIONAL DEGREE</td>\n",
              "      <td>MASTER'S DEGREE (MA, MS)</td>\n",
              "      <td>61.56</td>\n",
              "      <td>77.5</td>\n",
              "      <td>150000.5</td>\n",
              "      <td>0</td>\n",
              "      <td>0</td>\n",
              "      <td>2.595699</td>\n",
              "      <td>0</td>\n",
              "      <td>1</td>\n",
              "      <td>0</td>\n",
              "      <td>0</td>\n",
              "    </tr>\n",
              "  </tbody>\n",
              "</table>\n",
              "</div>\n",
              "      <button class=\"colab-df-convert\" onclick=\"convertToInteractive('df-6a5eb6d9-dff0-4d08-b16d-a45eff2be7cd')\"\n",
              "              title=\"Convert this dataframe to an interactive table.\"\n",
              "              style=\"display:none;\">\n",
              "        \n",
              "  <svg xmlns=\"http://www.w3.org/2000/svg\" height=\"24px\"viewBox=\"0 0 24 24\"\n",
              "       width=\"24px\">\n",
              "    <path d=\"M0 0h24v24H0V0z\" fill=\"none\"/>\n",
              "    <path d=\"M18.56 5.44l.94 2.06.94-2.06 2.06-.94-2.06-.94-.94-2.06-.94 2.06-2.06.94zm-11 1L8.5 8.5l.94-2.06 2.06-.94-2.06-.94L8.5 2.5l-.94 2.06-2.06.94zm10 10l.94 2.06.94-2.06 2.06-.94-2.06-.94-.94-2.06-.94 2.06-2.06.94z\"/><path d=\"M17.41 7.96l-1.37-1.37c-.4-.4-.92-.59-1.43-.59-.52 0-1.04.2-1.43.59L10.3 9.45l-7.72 7.72c-.78.78-.78 2.05 0 2.83L4 21.41c.39.39.9.59 1.41.59.51 0 1.02-.2 1.41-.59l7.78-7.78 2.81-2.81c.8-.78.8-2.07 0-2.86zM5.41 20L4 18.59l7.72-7.72 1.47 1.35L5.41 20z\"/>\n",
              "  </svg>\n",
              "      </button>\n",
              "      \n",
              "  <style>\n",
              "    .colab-df-container {\n",
              "      display:flex;\n",
              "      flex-wrap:wrap;\n",
              "      gap: 12px;\n",
              "    }\n",
              "\n",
              "    .colab-df-convert {\n",
              "      background-color: #E8F0FE;\n",
              "      border: none;\n",
              "      border-radius: 50%;\n",
              "      cursor: pointer;\n",
              "      display: none;\n",
              "      fill: #1967D2;\n",
              "      height: 32px;\n",
              "      padding: 0 0 0 0;\n",
              "      width: 32px;\n",
              "    }\n",
              "\n",
              "    .colab-df-convert:hover {\n",
              "      background-color: #E2EBFA;\n",
              "      box-shadow: 0px 1px 2px rgba(60, 64, 67, 0.3), 0px 1px 3px 1px rgba(60, 64, 67, 0.15);\n",
              "      fill: #174EA6;\n",
              "    }\n",
              "\n",
              "    [theme=dark] .colab-df-convert {\n",
              "      background-color: #3B4455;\n",
              "      fill: #D2E3FC;\n",
              "    }\n",
              "\n",
              "    [theme=dark] .colab-df-convert:hover {\n",
              "      background-color: #434B5C;\n",
              "      box-shadow: 0px 1px 3px 1px rgba(0, 0, 0, 0.15);\n",
              "      filter: drop-shadow(0px 1px 2px rgba(0, 0, 0, 0.3));\n",
              "      fill: #FFFFFF;\n",
              "    }\n",
              "  </style>\n",
              "\n",
              "      <script>\n",
              "        const buttonEl =\n",
              "          document.querySelector('#df-6a5eb6d9-dff0-4d08-b16d-a45eff2be7cd button.colab-df-convert');\n",
              "        buttonEl.style.display =\n",
              "          google.colab.kernel.accessAllowed ? 'block' : 'none';\n",
              "\n",
              "        async function convertToInteractive(key) {\n",
              "          const element = document.querySelector('#df-6a5eb6d9-dff0-4d08-b16d-a45eff2be7cd');\n",
              "          const dataTable =\n",
              "            await google.colab.kernel.invokeFunction('convertToInteractive',\n",
              "                                                     [key], {});\n",
              "          if (!dataTable) return;\n",
              "\n",
              "          const docLinkHtml = 'Like what you see? Visit the ' +\n",
              "            '<a target=\"_blank\" href=https://colab.research.google.com/notebooks/data_table.ipynb>data table notebook</a>'\n",
              "            + ' to learn more about interactive tables.';\n",
              "          element.innerHTML = '';\n",
              "          dataTable['output_type'] = 'display_data';\n",
              "          await google.colab.output.renderOutput(dataTable, element);\n",
              "          const docLink = document.createElement('div');\n",
              "          docLink.innerHTML = docLinkHtml;\n",
              "          element.appendChild(docLink);\n",
              "        }\n",
              "      </script>\n",
              "    </div>\n",
              "  </div>\n",
              "  "
            ]
          },
          "metadata": {},
          "execution_count": 94
        }
      ]
    },
    {
      "cell_type": "code",
      "source": [
        "df[\"dad_higher_education\"] = np.where((df.dad_education == \"BACHELOR'S DEGREE\") |\n",
        "                                      (df.dad_education == \"DOCTORATE OR PROFESSIONAL DEGREE\") | \n",
        "                                      (df.dad_education == \"MASTER'S DEGREE (MA MS)\"), 1, 0)\n",
        "df[\"mom_higher_education\"] = np.where((df.mom_education == \"BACHELOR'S DEGREE\") |\n",
        "                                      (df.mom_education == \"DOCTORATE OR PROFESSIONAL DEGREE\") | \n",
        "                                      (df.mom_education == \"MASTER'S DEGREE (MA MS)\"), 1, 0)\n",
        "df.head(1)"
      ],
      "metadata": {
        "colab": {
          "base_uri": "https://localhost:8080/",
          "height": 197
        },
        "id": "ulH006cY9pwG",
        "outputId": "76d8a86a-7b51-4cbb-94b3-198edba52c6e"
      },
      "execution_count": 95,
      "outputs": [
        {
          "output_type": "execute_result",
          "data": {
            "text/plain": [
              "   catholic                 race  number_places_lived  mom_age  dad_age  \\\n",
              "0         0  WHITE, NON-HISPANIC                    1       47       45   \n",
              "\n",
              "                      dad_education mom_education  mom_score  dad_score  \\\n",
              "0  DOCTORATE OR PROFESSIONAL DEGREE  SOME COLLEGE       53.5       77.5   \n",
              "\n",
              "    income  poverty  food_stamps  score_standardized  race_asian  race_white  \\\n",
              "0  62500.5        0            0            0.981753           0           1   \n",
              "\n",
              "   race_black  race_hispanic  dad_higher_education  mom_higher_education  \n",
              "0           0              0                     1                     0  "
            ],
            "text/html": [
              "\n",
              "  <div id=\"df-7941c5e6-1ed5-45a8-ad92-4ef709386eb7\">\n",
              "    <div class=\"colab-df-container\">\n",
              "      <div>\n",
              "<style scoped>\n",
              "    .dataframe tbody tr th:only-of-type {\n",
              "        vertical-align: middle;\n",
              "    }\n",
              "\n",
              "    .dataframe tbody tr th {\n",
              "        vertical-align: top;\n",
              "    }\n",
              "\n",
              "    .dataframe thead th {\n",
              "        text-align: right;\n",
              "    }\n",
              "</style>\n",
              "<table border=\"1\" class=\"dataframe\">\n",
              "  <thead>\n",
              "    <tr style=\"text-align: right;\">\n",
              "      <th></th>\n",
              "      <th>catholic</th>\n",
              "      <th>race</th>\n",
              "      <th>number_places_lived</th>\n",
              "      <th>mom_age</th>\n",
              "      <th>dad_age</th>\n",
              "      <th>dad_education</th>\n",
              "      <th>mom_education</th>\n",
              "      <th>mom_score</th>\n",
              "      <th>dad_score</th>\n",
              "      <th>income</th>\n",
              "      <th>poverty</th>\n",
              "      <th>food_stamps</th>\n",
              "      <th>score_standardized</th>\n",
              "      <th>race_asian</th>\n",
              "      <th>race_white</th>\n",
              "      <th>race_black</th>\n",
              "      <th>race_hispanic</th>\n",
              "      <th>dad_higher_education</th>\n",
              "      <th>mom_higher_education</th>\n",
              "    </tr>\n",
              "  </thead>\n",
              "  <tbody>\n",
              "    <tr>\n",
              "      <th>0</th>\n",
              "      <td>0</td>\n",
              "      <td>WHITE, NON-HISPANIC</td>\n",
              "      <td>1</td>\n",
              "      <td>47</td>\n",
              "      <td>45</td>\n",
              "      <td>DOCTORATE OR PROFESSIONAL DEGREE</td>\n",
              "      <td>SOME COLLEGE</td>\n",
              "      <td>53.5</td>\n",
              "      <td>77.5</td>\n",
              "      <td>62500.5</td>\n",
              "      <td>0</td>\n",
              "      <td>0</td>\n",
              "      <td>0.981753</td>\n",
              "      <td>0</td>\n",
              "      <td>1</td>\n",
              "      <td>0</td>\n",
              "      <td>0</td>\n",
              "      <td>1</td>\n",
              "      <td>0</td>\n",
              "    </tr>\n",
              "  </tbody>\n",
              "</table>\n",
              "</div>\n",
              "      <button class=\"colab-df-convert\" onclick=\"convertToInteractive('df-7941c5e6-1ed5-45a8-ad92-4ef709386eb7')\"\n",
              "              title=\"Convert this dataframe to an interactive table.\"\n",
              "              style=\"display:none;\">\n",
              "        \n",
              "  <svg xmlns=\"http://www.w3.org/2000/svg\" height=\"24px\"viewBox=\"0 0 24 24\"\n",
              "       width=\"24px\">\n",
              "    <path d=\"M0 0h24v24H0V0z\" fill=\"none\"/>\n",
              "    <path d=\"M18.56 5.44l.94 2.06.94-2.06 2.06-.94-2.06-.94-.94-2.06-.94 2.06-2.06.94zm-11 1L8.5 8.5l.94-2.06 2.06-.94-2.06-.94L8.5 2.5l-.94 2.06-2.06.94zm10 10l.94 2.06.94-2.06 2.06-.94-2.06-.94-.94-2.06-.94 2.06-2.06.94z\"/><path d=\"M17.41 7.96l-1.37-1.37c-.4-.4-.92-.59-1.43-.59-.52 0-1.04.2-1.43.59L10.3 9.45l-7.72 7.72c-.78.78-.78 2.05 0 2.83L4 21.41c.39.39.9.59 1.41.59.51 0 1.02-.2 1.41-.59l7.78-7.78 2.81-2.81c.8-.78.8-2.07 0-2.86zM5.41 20L4 18.59l7.72-7.72 1.47 1.35L5.41 20z\"/>\n",
              "  </svg>\n",
              "      </button>\n",
              "      \n",
              "  <style>\n",
              "    .colab-df-container {\n",
              "      display:flex;\n",
              "      flex-wrap:wrap;\n",
              "      gap: 12px;\n",
              "    }\n",
              "\n",
              "    .colab-df-convert {\n",
              "      background-color: #E8F0FE;\n",
              "      border: none;\n",
              "      border-radius: 50%;\n",
              "      cursor: pointer;\n",
              "      display: none;\n",
              "      fill: #1967D2;\n",
              "      height: 32px;\n",
              "      padding: 0 0 0 0;\n",
              "      width: 32px;\n",
              "    }\n",
              "\n",
              "    .colab-df-convert:hover {\n",
              "      background-color: #E2EBFA;\n",
              "      box-shadow: 0px 1px 2px rgba(60, 64, 67, 0.3), 0px 1px 3px 1px rgba(60, 64, 67, 0.15);\n",
              "      fill: #174EA6;\n",
              "    }\n",
              "\n",
              "    [theme=dark] .colab-df-convert {\n",
              "      background-color: #3B4455;\n",
              "      fill: #D2E3FC;\n",
              "    }\n",
              "\n",
              "    [theme=dark] .colab-df-convert:hover {\n",
              "      background-color: #434B5C;\n",
              "      box-shadow: 0px 1px 3px 1px rgba(0, 0, 0, 0.15);\n",
              "      filter: drop-shadow(0px 1px 2px rgba(0, 0, 0, 0.3));\n",
              "      fill: #FFFFFF;\n",
              "    }\n",
              "  </style>\n",
              "\n",
              "      <script>\n",
              "        const buttonEl =\n",
              "          document.querySelector('#df-7941c5e6-1ed5-45a8-ad92-4ef709386eb7 button.colab-df-convert');\n",
              "        buttonEl.style.display =\n",
              "          google.colab.kernel.accessAllowed ? 'block' : 'none';\n",
              "\n",
              "        async function convertToInteractive(key) {\n",
              "          const element = document.querySelector('#df-7941c5e6-1ed5-45a8-ad92-4ef709386eb7');\n",
              "          const dataTable =\n",
              "            await google.colab.kernel.invokeFunction('convertToInteractive',\n",
              "                                                     [key], {});\n",
              "          if (!dataTable) return;\n",
              "\n",
              "          const docLinkHtml = 'Like what you see? Visit the ' +\n",
              "            '<a target=\"_blank\" href=https://colab.research.google.com/notebooks/data_table.ipynb>data table notebook</a>'\n",
              "            + ' to learn more about interactive tables.';\n",
              "          element.innerHTML = '';\n",
              "          dataTable['output_type'] = 'display_data';\n",
              "          await google.colab.output.renderOutput(dataTable, element);\n",
              "          const docLink = document.createElement('div');\n",
              "          docLink.innerHTML = docLinkHtml;\n",
              "          element.appendChild(docLink);\n",
              "        }\n",
              "      </script>\n",
              "    </div>\n",
              "  </div>\n",
              "  "
            ]
          },
          "metadata": {},
          "execution_count": 95
        }
      ]
    },
    {
      "cell_type": "code",
      "source": [
        "# Cleaning dataset\n",
        "df.drop([\"race\", \"dad_education\",\"mom_education\"], axis=1, inplace=True)\n",
        "df.head(1)"
      ],
      "metadata": {
        "colab": {
          "base_uri": "https://localhost:8080/",
          "height": 145
        },
        "id": "oJ6Vmna7-kNP",
        "outputId": "8ba66cc0-d1de-460b-bffc-a74a6e0e932e"
      },
      "execution_count": 96,
      "outputs": [
        {
          "output_type": "execute_result",
          "data": {
            "text/plain": [
              "   catholic  number_places_lived  mom_age  dad_age  mom_score  dad_score  \\\n",
              "0         0                    1       47       45       53.5       77.5   \n",
              "\n",
              "    income  poverty  food_stamps  score_standardized  race_asian  race_white  \\\n",
              "0  62500.5        0            0            0.981753           0           1   \n",
              "\n",
              "   race_black  race_hispanic  dad_higher_education  mom_higher_education  \n",
              "0           0              0                     1                     0  "
            ],
            "text/html": [
              "\n",
              "  <div id=\"df-8cf1246a-0513-4ba3-8c30-36ba4f9b4a02\">\n",
              "    <div class=\"colab-df-container\">\n",
              "      <div>\n",
              "<style scoped>\n",
              "    .dataframe tbody tr th:only-of-type {\n",
              "        vertical-align: middle;\n",
              "    }\n",
              "\n",
              "    .dataframe tbody tr th {\n",
              "        vertical-align: top;\n",
              "    }\n",
              "\n",
              "    .dataframe thead th {\n",
              "        text-align: right;\n",
              "    }\n",
              "</style>\n",
              "<table border=\"1\" class=\"dataframe\">\n",
              "  <thead>\n",
              "    <tr style=\"text-align: right;\">\n",
              "      <th></th>\n",
              "      <th>catholic</th>\n",
              "      <th>number_places_lived</th>\n",
              "      <th>mom_age</th>\n",
              "      <th>dad_age</th>\n",
              "      <th>mom_score</th>\n",
              "      <th>dad_score</th>\n",
              "      <th>income</th>\n",
              "      <th>poverty</th>\n",
              "      <th>food_stamps</th>\n",
              "      <th>score_standardized</th>\n",
              "      <th>race_asian</th>\n",
              "      <th>race_white</th>\n",
              "      <th>race_black</th>\n",
              "      <th>race_hispanic</th>\n",
              "      <th>dad_higher_education</th>\n",
              "      <th>mom_higher_education</th>\n",
              "    </tr>\n",
              "  </thead>\n",
              "  <tbody>\n",
              "    <tr>\n",
              "      <th>0</th>\n",
              "      <td>0</td>\n",
              "      <td>1</td>\n",
              "      <td>47</td>\n",
              "      <td>45</td>\n",
              "      <td>53.5</td>\n",
              "      <td>77.5</td>\n",
              "      <td>62500.5</td>\n",
              "      <td>0</td>\n",
              "      <td>0</td>\n",
              "      <td>0.981753</td>\n",
              "      <td>0</td>\n",
              "      <td>1</td>\n",
              "      <td>0</td>\n",
              "      <td>0</td>\n",
              "      <td>1</td>\n",
              "      <td>0</td>\n",
              "    </tr>\n",
              "  </tbody>\n",
              "</table>\n",
              "</div>\n",
              "      <button class=\"colab-df-convert\" onclick=\"convertToInteractive('df-8cf1246a-0513-4ba3-8c30-36ba4f9b4a02')\"\n",
              "              title=\"Convert this dataframe to an interactive table.\"\n",
              "              style=\"display:none;\">\n",
              "        \n",
              "  <svg xmlns=\"http://www.w3.org/2000/svg\" height=\"24px\"viewBox=\"0 0 24 24\"\n",
              "       width=\"24px\">\n",
              "    <path d=\"M0 0h24v24H0V0z\" fill=\"none\"/>\n",
              "    <path d=\"M18.56 5.44l.94 2.06.94-2.06 2.06-.94-2.06-.94-.94-2.06-.94 2.06-2.06.94zm-11 1L8.5 8.5l.94-2.06 2.06-.94-2.06-.94L8.5 2.5l-.94 2.06-2.06.94zm10 10l.94 2.06.94-2.06 2.06-.94-2.06-.94-.94-2.06-.94 2.06-2.06.94z\"/><path d=\"M17.41 7.96l-1.37-1.37c-.4-.4-.92-.59-1.43-.59-.52 0-1.04.2-1.43.59L10.3 9.45l-7.72 7.72c-.78.78-.78 2.05 0 2.83L4 21.41c.39.39.9.59 1.41.59.51 0 1.02-.2 1.41-.59l7.78-7.78 2.81-2.81c.8-.78.8-2.07 0-2.86zM5.41 20L4 18.59l7.72-7.72 1.47 1.35L5.41 20z\"/>\n",
              "  </svg>\n",
              "      </button>\n",
              "      \n",
              "  <style>\n",
              "    .colab-df-container {\n",
              "      display:flex;\n",
              "      flex-wrap:wrap;\n",
              "      gap: 12px;\n",
              "    }\n",
              "\n",
              "    .colab-df-convert {\n",
              "      background-color: #E8F0FE;\n",
              "      border: none;\n",
              "      border-radius: 50%;\n",
              "      cursor: pointer;\n",
              "      display: none;\n",
              "      fill: #1967D2;\n",
              "      height: 32px;\n",
              "      padding: 0 0 0 0;\n",
              "      width: 32px;\n",
              "    }\n",
              "\n",
              "    .colab-df-convert:hover {\n",
              "      background-color: #E2EBFA;\n",
              "      box-shadow: 0px 1px 2px rgba(60, 64, 67, 0.3), 0px 1px 3px 1px rgba(60, 64, 67, 0.15);\n",
              "      fill: #174EA6;\n",
              "    }\n",
              "\n",
              "    [theme=dark] .colab-df-convert {\n",
              "      background-color: #3B4455;\n",
              "      fill: #D2E3FC;\n",
              "    }\n",
              "\n",
              "    [theme=dark] .colab-df-convert:hover {\n",
              "      background-color: #434B5C;\n",
              "      box-shadow: 0px 1px 3px 1px rgba(0, 0, 0, 0.15);\n",
              "      filter: drop-shadow(0px 1px 2px rgba(0, 0, 0, 0.3));\n",
              "      fill: #FFFFFF;\n",
              "    }\n",
              "  </style>\n",
              "\n",
              "      <script>\n",
              "        const buttonEl =\n",
              "          document.querySelector('#df-8cf1246a-0513-4ba3-8c30-36ba4f9b4a02 button.colab-df-convert');\n",
              "        buttonEl.style.display =\n",
              "          google.colab.kernel.accessAllowed ? 'block' : 'none';\n",
              "\n",
              "        async function convertToInteractive(key) {\n",
              "          const element = document.querySelector('#df-8cf1246a-0513-4ba3-8c30-36ba4f9b4a02');\n",
              "          const dataTable =\n",
              "            await google.colab.kernel.invokeFunction('convertToInteractive',\n",
              "                                                     [key], {});\n",
              "          if (!dataTable) return;\n",
              "\n",
              "          const docLinkHtml = 'Like what you see? Visit the ' +\n",
              "            '<a target=\"_blank\" href=https://colab.research.google.com/notebooks/data_table.ipynb>data table notebook</a>'\n",
              "            + ' to learn more about interactive tables.';\n",
              "          element.innerHTML = '';\n",
              "          dataTable['output_type'] = 'display_data';\n",
              "          await google.colab.output.renderOutput(dataTable, element);\n",
              "          const docLink = document.createElement('div');\n",
              "          docLink.innerHTML = docLinkHtml;\n",
              "          element.appendChild(docLink);\n",
              "        }\n",
              "      </script>\n",
              "    </div>\n",
              "  </div>\n",
              "  "
            ]
          },
          "metadata": {},
          "execution_count": 96
        }
      ]
    },
    {
      "cell_type": "code",
      "source": [
        "# Isolate y, treatment and confounders\n",
        "treat = df.catholic.values\n",
        "Y = df['score_standardized'].values\n",
        "confounders = df.drop([\"catholic\", \"score_standardized\"], axis=1).values"
      ],
      "metadata": {
        "id": "4ttvSsF8-9ax"
      },
      "execution_count": 97,
      "outputs": []
    },
    {
      "cell_type": "markdown",
      "source": [
        "# Common Support Region"
      ],
      "metadata": {
        "id": "hvH5zIinByfY"
      }
    },
    {
      "cell_type": "code",
      "source": [
        "# Logistic Regression\n",
        "import statsmodels.api as sm\n",
        "confounders_csr = sm.add_constant(confounders)\n",
        "csr_model = sm.Logit(treat, confounders_csr).fit()\n",
        "print(csr_model.summary())"
      ],
      "metadata": {
        "colab": {
          "base_uri": "https://localhost:8080/"
        },
        "id": "9QaKxMZ9B1Ab",
        "outputId": "6dc59f53-ed64-43bd-acd3-fdee05220fb7"
      },
      "execution_count": 98,
      "outputs": [
        {
          "output_type": "stream",
          "name": "stdout",
          "text": [
            "Optimization terminated successfully.\n",
            "         Current function value: 0.430604\n",
            "         Iterations 8\n",
            "                           Logit Regression Results                           \n",
            "==============================================================================\n",
            "Dep. Variable:                      y   No. Observations:                 5429\n",
            "Model:                          Logit   Df Residuals:                     5414\n",
            "Method:                           MLE   Df Model:                           14\n",
            "Date:                Sat, 20 Aug 2022   Pseudo R-squ.:                 0.05970\n",
            "Time:                        16:59:22   Log-Likelihood:                -2337.8\n",
            "converged:                       True   LL-Null:                       -2486.2\n",
            "Covariance Type:            nonrobust   LLR p-value:                 5.322e-55\n",
            "==============================================================================\n",
            "                 coef    std err          z      P>|z|      [0.025      0.975]\n",
            "------------------------------------------------------------------------------\n",
            "const         -4.1125      0.371    -11.095      0.000      -4.839      -3.386\n",
            "x1            -0.1640      0.124     -1.323      0.186      -0.407       0.079\n",
            "x2             0.0296      0.010      2.904      0.004       0.010       0.050\n",
            "x3             0.0121      0.009      1.371      0.170      -0.005       0.029\n",
            "x4             0.0076      0.003      2.244      0.025       0.001       0.014\n",
            "x5             0.0062      0.004      1.672      0.095      -0.001       0.013\n",
            "x6          5.088e-06   9.47e-07      5.373      0.000    3.23e-06    6.94e-06\n",
            "x7            -1.1297      0.278     -4.058      0.000      -1.675      -0.584\n",
            "x8            -0.9221      0.429     -2.147      0.032      -1.764      -0.080\n",
            "x9            -0.3715      0.206     -1.804      0.071      -0.775       0.032\n",
            "x10            0.1343      0.127      1.061      0.288      -0.114       0.382\n",
            "x11           -0.3280      0.219     -1.499      0.134      -0.757       0.101\n",
            "x12            0.2198      0.193      1.136      0.256      -0.159       0.599\n",
            "x13           -0.0678      0.092     -0.734      0.463      -0.249       0.113\n",
            "x14            0.2950      0.088      3.342      0.001       0.122       0.468\n",
            "==============================================================================\n"
          ]
        }
      ]
    },
    {
      "cell_type": "code",
      "source": [
        "# predictions\n",
        "preds = csr_model.predict(confounders_csr)"
      ],
      "metadata": {
        "id": "Awk8VNpTDk99"
      },
      "execution_count": 99,
      "outputs": []
    },
    {
      "cell_type": "code",
      "source": [
        "# create dataframe with probabilities and being treated or not\n",
        "df_prob = np.vstack([treat, preds])\n",
        "df_prob = np.transpose(df_prob)\n",
        "df_prob"
      ],
      "metadata": {
        "colab": {
          "base_uri": "https://localhost:8080/"
        },
        "id": "nQ_tiHbbEHxk",
        "outputId": "12df0813-c458-4e93-9718-63ac4f1192d8"
      },
      "execution_count": 100,
      "outputs": [
        {
          "output_type": "execute_result",
          "data": {
            "text/plain": [
              "array([[0.        , 0.2548434 ],\n",
              "       [0.        , 0.16898045],\n",
              "       [0.        , 0.25444473],\n",
              "       ...,\n",
              "       [0.        , 0.24977879],\n",
              "       [0.        , 0.10170926],\n",
              "       [0.        , 0.15295705]])"
            ]
          },
          "metadata": {},
          "execution_count": 100
        }
      ]
    },
    {
      "cell_type": "code",
      "source": [
        "# Split between treated and non-treated\n",
        "non_treated = df_prob[:, 0] == 0\n",
        "non_treated = df_prob[non_treated]\n",
        "non_treated = non_treated[:, 1]\n",
        "\n",
        "treated = df_prob[:, 0] == 1\n",
        "treated = df_prob[treated]\n",
        "treated = treated[:, 1]"
      ],
      "metadata": {
        "id": "_VMPMa-DEunX"
      },
      "execution_count": 101,
      "outputs": []
    },
    {
      "cell_type": "code",
      "source": [
        "# Common Support Region\n",
        "plot_non_treated = sns.kdeplot(non_treated, shade=True, color='r')\n",
        "plot_treated = sns.kdeplot(treated, shade=True, color='b')"
      ],
      "metadata": {
        "colab": {
          "base_uri": "https://localhost:8080/",
          "height": 265
        },
        "id": "jcLAbj0qFeju",
        "outputId": "ccbbce50-4819-402a-e77f-041f1c2abcf4"
      },
      "execution_count": 102,
      "outputs": [
        {
          "output_type": "display_data",
          "data": {
            "text/plain": [
              "<Figure size 432x288 with 1 Axes>"
            ],
            "image/png": "[encoded data removed]"
          },
          "metadata": {
            "needs_background": "light"
          }
        }
      ]
    },
    {
      "cell_type": "markdown",
      "source": [
        "# Matching"
      ],
      "metadata": {
        "id": "88_V-NJJGWQ5"
      }
    },
    {
      "cell_type": "code",
      "source": [
        "# Matching Model\n",
        "model = CausalModel(Y,\n",
        "                    treat,\n",
        "                    confounders)\n",
        "model.est_via_matching(bias_adj=True)\n",
        "print(model.estimates)"
      ],
      "metadata": {
        "colab": {
          "base_uri": "https://localhost:8080/"
        },
        "id": "YEh5FI8CGYOS",
        "outputId": "9793ceb1-1689-4b1c-b085-2cd1fb924afb"
      },
      "execution_count": 103,
      "outputs": [
        {
          "output_type": "stream",
          "name": "stderr",
          "text": [
            "/usr/local/lib/python3.7/dist-packages/causalinference/estimators/matching.py:100: FutureWarning: `rcond` parameter will change to the default of machine precision times ``max(M, N)`` where M and N are the input matrix dimensions.\n",
            "To use the future default and silence this warning we advise to pass `rcond=None`, to keep using the old, explicitly pass `rcond=-1`.\n",
            "  return np.linalg.lstsq(X, Y)[0][1:]  # don't need intercept coef\n"
          ]
        },
        {
          "output_type": "stream",
          "name": "stdout",
          "text": [
            "\n",
            "Treatment Effect Estimates: Matching\n",
            "\n",
            "                     Est.       S.e.          z      P>|z|      [95% Conf. int.]\n",
            "--------------------------------------------------------------------------------\n",
            "           ATE     -0.149      0.063     -2.372      0.018     -0.272     -0.026\n",
            "           ATC     -0.143      0.070     -2.056      0.040     -0.279     -0.007\n",
            "           ATT     -0.179      0.060     -2.990      0.003     -0.296     -0.062\n",
            "\n"
          ]
        }
      ]
    },
    {
      "cell_type": "markdown",
      "source": [
        "# Robutness: Repeated experiments"
      ],
      "metadata": {
        "id": "mWMcPEsOIFy5"
      }
    },
    {
      "cell_type": "code",
      "source": [
        "# prepare for the loop\n",
        "ate = {}\n",
        "# start the loop\n",
        "i = 0\n",
        "while i < 1000:\n",
        "  # sample\n",
        "  sample = df.sample(1000)\n",
        "  # Matching preparation\n",
        "  treat = sample.catholic.values\n",
        "  Y = sample.score_standardized.values\n",
        "  confounders = sample.drop([\"catholic\", \"score_standardized\"], axis=1).values\n",
        "  # Matching\n",
        "  model = CausalModel(Y, treat, confounders)\n",
        "  model.est_via_matching(bias_adj=True)\n",
        "  # store the results\n",
        "  ate[i] = model.estimates[\"matching\"][\"ate\"]\n",
        "  i += 1"
      ],
      "metadata": {
        "id": "uKz6vo1PIIhC"
      },
      "execution_count": 104,
      "outputs": []
    },
    {
      "cell_type": "code",
      "source": [
        "# Visualization\n",
        "ate = pd.Series(ate)\n",
        "print(ate.hist())\n",
        "print(ate.mean())"
      ],
      "metadata": {
        "colab": {
          "base_uri": "https://localhost:8080/",
          "height": 301
        },
        "id": "VCN9rf07KahT",
        "outputId": "e1480bae-3841-41b6-80a0-63a40b561d10"
      },
      "execution_count": 105,
      "outputs": [
        {
          "output_type": "stream",
          "name": "stdout",
          "text": [
            "AxesSubplot(0.125,0.125;0.775x0.755)\n",
            "-0.12586093283523145\n"
          ]
        },
        {
          "output_type": "display_data",
          "data": {
            "text/plain": [
              "<Figure size 432x288 with 1 Axes>"
            ],
            "image/png": "[encoded data removed]"
          },
          "metadata": {
            "needs_background": "light"
          }
        }
      ]
    },
    {
      "cell_type": "markdown",
      "source": [
        "# Robutness Check - Removing 1 confounder"
      ],
      "metadata": {
        "id": "48lpvgtNLEaB"
      }
    },
    {
      "cell_type": "code",
      "source": [
        "# New confounder list\n",
        "confounder = df.drop([\"catholic\", \"score_standardized\", \"income\"], axis=1).values"
      ],
      "metadata": {
        "id": "gsF6iES2LJv3"
      },
      "execution_count": 106,
      "outputs": []
    },
    {
      "cell_type": "code",
      "source": [
        "# Matching\n",
        "model = CausalModel(Y,\n",
        "                    treat,\n",
        "                    confounders)\n",
        "model.est_via_matching(bias_adj=True)\n",
        "print(model.estimates)"
      ],
      "metadata": {
        "colab": {
          "base_uri": "https://localhost:8080/"
        },
        "id": "H3-Bs_rHLMA_",
        "outputId": "ae9fdb96-8145-4b20-f367-47fa32115101"
      },
      "execution_count": 109,
      "outputs": [
        {
          "output_type": "stream",
          "name": "stdout",
          "text": [
            "\n",
            "Treatment Effect Estimates: Matching\n",
            "\n",
            "                     Est.       S.e.          z      P>|z|      [95% Conf. int.]\n",
            "--------------------------------------------------------------------------------\n",
            "           ATE     -0.163      0.127     -1.282      0.200     -0.411      0.086\n",
            "           ATC     -0.175      0.140     -1.254      0.210     -0.450      0.099\n",
            "           ATT     -0.110      0.131     -0.839      0.401     -0.366      0.147\n",
            "\n"
          ]
        },
        {
          "output_type": "stream",
          "name": "stderr",
          "text": [
            "/usr/local/lib/python3.7/dist-packages/causalinference/estimators/matching.py:100: FutureWarning: `rcond` parameter will change to the default of machine precision times ``max(M, N)`` where M and N are the input matrix dimensions.\n",
            "To use the future default and silence this warning we advise to pass `rcond=None`, to keep using the old, explicitly pass `rcond=-1`.\n",
            "  return np.linalg.lstsq(X, Y)[0][1:]  # don't need intercept coef\n"
          ]
        }
      ]
    }
  ]
}